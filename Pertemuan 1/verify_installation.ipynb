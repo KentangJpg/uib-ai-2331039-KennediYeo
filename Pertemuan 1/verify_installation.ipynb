{
 "cells": [
  {
   "cell_type": "code",
   "execution_count": 2,
   "id": "ea399d2a-d76a-43c8-9126-65cca40084f1",
   "metadata": {},
   "outputs": [
    {
     "name": "stdout",
     "output_type": "stream",
     "text": [
      "numpy: OK, version = 2.1.3\n",
      "pandas: OK, version = 2.2.3\n",
      "sklearn: OK, version = 1.6.1\n",
      "skfuzzy: ERROR - No module named 'skfuzzy'\n",
      "cv2: ERROR - No module named 'cv2'\n",
      "matplotlib: OK, version = 3.10.0\n",
      "nltk: OK, version = 3.9.1\n",
      "Python: 3.13.5 | packaged by Anaconda, Inc. | (main, Jun 12 2025, 16:37:03) [MSC v.1929 64 bit (AMD64)]\n"
     ]
    }
   ],
   "source": [
    "import sys\n",
    "import importlib\n",
    "\n",
    "packages = [\"numpy\", \"pandas\", \"sklearn\", \"skfuzzy\", \"cv2\", \"matplotlib\", \"nltk\"]\n",
    "\n",
    "for pkg in packages:\n",
    "    try:\n",
    "        m = importlib.import_module(pkg)\n",
    "        version = getattr(m, \"__version__\", \"unknown\")  # most packages use __version__\n",
    "        print(f\"{pkg}: OK, version = {version}\")\n",
    "    except Exception as e:\n",
    "        print(f\"{pkg}: ERROR - {e}\")\n",
    "\n",
    "print(\"Python:\", sys.version)"
   ]
  },
  {
   "cell_type": "code",
   "execution_count": null,
   "id": "f8a4e186-93f6-44fc-adac-939e5243ed50",
   "metadata": {},
   "outputs": [],
   "source": []
  }
 ],
 "metadata": {
  "kernelspec": {
   "display_name": "Python 3 (ipykernel)",
   "language": "python",
   "name": "python3"
  },
  "language_info": {
   "codemirror_mode": {
    "name": "ipython",
    "version": 3
   },
   "file_extension": ".py",
   "mimetype": "text/x-python",
   "name": "python",
   "nbconvert_exporter": "python",
   "pygments_lexer": "ipython3",
   "version": "3.13.5"
  }
 },
 "nbformat": 4,
 "nbformat_minor": 5
}
